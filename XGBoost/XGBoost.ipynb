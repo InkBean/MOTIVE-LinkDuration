{
 "cells": [
  {
   "cell_type": "code",
   "execution_count": 1,
   "metadata": {},
   "outputs": [],
   "source": [
    "from sklearn import metrics\n",
    "from xgboost import XGBClassifier\n",
    "import os\n",
    "\n",
    "import pandas as pd"
   ]
  },
  {
   "cell_type": "code",
   "execution_count": 2,
   "metadata": {},
   "outputs": [
    {
     "name": "stdout",
     "output_type": "stream",
     "text": [
      "/Users/JunxiChen/Documents/MOTIVE_LinkDuration\n"
     ]
    }
   ],
   "source": [
    "PATH = os.getcwd()\n",
    "scriptdir = os.path.dirname(os.path.abspath(PATH))\n",
    "print(scriptdir)\n",
    "PATH = scriptdir"
   ]
  },
  {
   "cell_type": "code",
   "execution_count": 12,
   "metadata": {},
   "outputs": [],
   "source": [
    "X_train = pd.read_csv(PATH + \"/Train/X_train_5int.csv\", header=0)\n",
    "Y_train = pd.read_csv(PATH + \"/Train/Y_train_5int.csv\", header=0)\n",
    "\n",
    "X_test = pd.read_csv(PATH + \"/Test/X_test_5int.csv\", header=0)\n",
    "Y_test = pd.read_csv(PATH + \"/Test/Y_test_5int.csv\", header=0)\n"
   ]
  },
  {
   "cell_type": "code",
   "execution_count": 14,
   "metadata": {},
   "outputs": [],
   "source": [
    "import numpy as np\n",
    "X_train = np.asarray(X_train)\n",
    "Y_train = np.asarray(Y_train)\n",
    "X_test = np.asarray(X_test)\n",
    "Y_test = np.asarray(Y_test)"
   ]
  },
  {
   "cell_type": "code",
   "execution_count": 76,
   "metadata": {},
   "outputs": [
    {
     "data": {
      "text/plain": [
       "XGBClassifier(base_score=0.5, booster='gbtree', colsample_bylevel=1,\n",
       "              colsample_bynode=1, colsample_bytree=1, eval_metric='auc',\n",
       "              gamma=1, learning_rate=0.1, max_delta_step=0, max_depth=20,\n",
       "              min_child_weight=15, missing=None, n_estimators=100, n_jobs=1,\n",
       "              nthread=None, num_class=5, objective='multi:softprob',\n",
       "              random_state=0, reg_alpha=1, reg_lambda=0, scale_pos_weight=1,\n",
       "              seed=None, silent=0, subsample=1, verbosity=1)"
      ]
     },
     "execution_count": 76,
     "metadata": {},
     "output_type": "execute_result"
    }
   ],
   "source": [
    "model = XGBClassifier(base_score=0.5, booster='gbtree', colsample_bylevel=1,\n",
    "              colsample_bynode=1, colsample_bytree=1, gamma=1,\n",
    "              learning_rate=0.1, max_delta_step=0, max_depth=20,\n",
    "              min_child_weight=15, missing=None, n_estimators=100, n_jobs=1,\n",
    "              nthread=None, objective='multi:softprob',  num_class=5, eval_metric='auc',\n",
    "                random_state=0,#nrounds = 10,\n",
    "              reg_alpha=1, reg_lambda=0, scale_pos_weight=1, seed=None,\n",
    "              silent=0, subsample=1, verbosity=1)\n",
    "model.fit(X_train, Y_train)"
   ]
  },
  {
   "cell_type": "code",
   "execution_count": 79,
   "metadata": {},
   "outputs": [],
   "source": [
    "# make predictions for test data\n",
    "y_pred = model.predict(X_train)\n",
    "#predictions = [round(value) for value in y_pred]"
   ]
  },
  {
   "cell_type": "code",
   "execution_count": 80,
   "metadata": {},
   "outputs": [
    {
     "name": "stdout",
     "output_type": "stream",
     "text": [
      "Accuracy: 92.69%\n"
     ]
    }
   ],
   "source": [
    "# evaluate predictions\n",
    "accuracy = metrics.accuracy_score(Y_train, y_pred)\n",
    "print(\"Accuracy: %.2f%%\" % (accuracy * 100.0))"
   ]
  },
  {
   "cell_type": "code",
   "execution_count": null,
   "metadata": {},
   "outputs": [],
   "source": [
    "import xgboost as xgb\n",
    "cv_results = xgb.cv(\n",
    "    params,\n",
    "    dtrain,\n",
    "    num_boost_round=num_boost_round,\n",
    "    seed=42,\n",
    "    nfold=5,\n",
    "    metrics={'accuracy'},\n",
    "    early_stopping_rounds=10\n",
    ")\n",
    "cv_results"
   ]
  },
  {
   "cell_type": "code",
   "execution_count": null,
   "metadata": {},
   "outputs": [],
   "source": []
  }
 ],
 "metadata": {
  "kernelspec": {
   "display_name": "Python 3",
   "language": "python",
   "name": "python3"
  },
  "language_info": {
   "codemirror_mode": {
    "name": "ipython",
    "version": 3
   },
   "file_extension": ".py",
   "mimetype": "text/x-python",
   "name": "python",
   "nbconvert_exporter": "python",
   "pygments_lexer": "ipython3",
   "version": "3.7.3"
  }
 },
 "nbformat": 4,
 "nbformat_minor": 2
}
