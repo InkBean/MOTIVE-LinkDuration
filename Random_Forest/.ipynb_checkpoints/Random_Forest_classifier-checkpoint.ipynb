{
 "cells": [
  {
   "cell_type": "code",
   "execution_count": 1,
   "metadata": {},
   "outputs": [],
   "source": [
    "import os\n",
    "import numpy as np\n",
    "import pandas as pd\n",
    "\n",
    "from sklearn.model_selection import train_test_split"
   ]
  },
  {
   "cell_type": "code",
   "execution_count": 2,
   "metadata": {},
   "outputs": [],
   "source": [
    "PATH = os.getcwd()\n",
    "\n",
    "df = pd.read_csv(PATH + \"/k.csv\", header=0)\n",
    "#df = df[df.zero_to_10 == 0]\n",
    "data = df.values"
   ]
  },
  {
   "cell_type": "code",
   "execution_count": 3,
   "metadata": {},
   "outputs": [],
   "source": [
    "X = df.drop(['zero_to_10', 'ten_to_30', 'thirty_plus','duration'], axis=1)\n",
    "#Y = df[['zero_to_10', 'ten_to_30', 'thirty_plus']]\n",
    "Y = df[['zero_to_10','ten_to_30', 'thirty_plus']]#'zero_to_10', 'ten_to_30', 'thirty_plus'\n",
    "\n",
    "X_train, X_test, Y_train, Y_test = train_test_split(X, Y, test_size = 0.10)"
   ]
  },
  {
   "cell_type": "code",
   "execution_count": 4,
   "metadata": {},
   "outputs": [
    {
     "name": "stdout",
     "output_type": "stream",
     "text": [
      "[-0.88834968 -0.3192089  -0.92378307 -0.00890529 -0.58680818 -1.24992603\n",
      " -0.32225436 -0.93468514 -0.01323081 -0.36650081  0.21331169 -0.04711902\n",
      " -1.79180315  0.         -0.17072248 -0.87954157 -0.17176651  0.9863962\n",
      " -0.1700233  -0.87858641 -0.16940942  0.983404    0.29321528 -0.23145617\n",
      " -0.17072248  0.2922527  -0.23044283 -0.17054792  1.57897822 -0.57378885\n",
      " -0.14345659 -0.13805365 -0.06638264 -0.20116998 -0.70579467 -0.06354487\n",
      " -0.09529619 -0.19972783  1.57832645 -0.57595386 -0.1415045  -0.13592286\n",
      " -0.06786236 -0.2010943  -0.70543696 -0.06309716 -0.09514582 -0.19881244\n",
      "  0.51256453 -0.17875625 -0.34550929 -0.17228643 -0.20840118  0.51291446\n",
      " -0.17774848 -0.34683374 -0.17237295 -0.20788641 -0.55520509 -0.03714796\n",
      " -0.63493398  1.37429958 -0.35270827 -0.13868697 -0.55429473 -0.03789956\n",
      " -0.63462876  1.37208253 -0.35275867 -0.13858161 -0.41951874 -0.41658939\n",
      "  0.        ]\n",
      "[-1.0014709  -0.27453823 -0.93759684 -0.01269733 -0.59538454 -1.64541754\n",
      " -0.03747907 -0.94274395  0.02586672 -0.13587543  0.55798651  1.18939866\n",
      "  0.34274126  0.         -0.16196841 -0.86768875 -0.1636067   0.96297304\n",
      " -0.16843586 -0.87623355 -0.18445191  0.98967617  0.28922883 -0.22351765\n",
      " -0.17468953  0.29787527 -0.23272778 -0.17622225  1.56353388 -0.58796977\n",
      " -0.13134024 -0.12626322 -0.06765101 -0.2087621  -0.69145823 -0.0617331\n",
      " -0.09316712 -0.19865372 -0.63722039 -0.56848467 -0.14916759 -0.14558196\n",
      " -0.05283823 -0.20942142 -0.69465934 -0.06573661 -0.09453936  4.83620604\n",
      "  0.52001731 -0.17849959 -0.34855038 -0.17391871 -0.21527968  0.51687371\n",
      " -0.18736623 -0.33655808 -0.17314487 -0.21974683 -0.55483789 -0.04212894\n",
      " -0.62663252  1.34539941 -0.34717889 -0.13332045 -0.56302753 -0.03559643\n",
      " -0.62937515  1.36493351 -0.34672104 -0.13430037 -0.35723093 -1.04179627\n",
      "  0.        ]\n"
     ]
    }
   ],
   "source": [
    "from sklearn.preprocessing import StandardScaler\n",
    "\n",
    "scaler = StandardScaler()\n",
    "scaler.fit(X_train)\n",
    "X_train = scaler.transform(X_train)\n",
    "\n",
    "print(X_train[0][:] )\n",
    "\n",
    "scaler = StandardScaler()\n",
    "scaler.fit(X_test)\n",
    "X_test = scaler.transform(X_test)\n",
    "\n",
    "print(X_test[0][:] )"
   ]
  },
  {
   "cell_type": "code",
   "execution_count": 5,
   "metadata": {},
   "outputs": [],
   "source": [
    "\n",
    "from sklearn.ensemble import RandomForestClassifier\n",
    "\n",
    "#Create a Gaussian Classifier\n",
    "clf=RandomForestClassifier(n_estimators=100)\n",
    "\n",
    "#Train the model using the training sets y_pred=clf.predict(X_test)\n",
    "clf.fit(X_train,Y_train)\n",
    "\n",
    "y_pred=clf.predict(X_test)"
   ]
  },
  {
   "cell_type": "code",
   "execution_count": 6,
   "metadata": {},
   "outputs": [
    {
     "name": "stdout",
     "output_type": "stream",
     "text": [
      "Accuracy: 0.6443938243482663\n"
     ]
    }
   ],
   "source": [
    "from sklearn import metrics\n",
    "# Model Accuracy, how often is the classifier correct?\n",
    "print(\"Accuracy:\",metrics.accuracy_score(Y_test, y_pred))"
   ]
  },
  {
   "cell_type": "code",
   "execution_count": 18,
   "metadata": {},
   "outputs": [
    {
     "name": "stdout",
     "output_type": "stream",
     "text": [
      "Accuracy: 0.6443938243482663\n"
     ]
    }
   ],
   "source": [
    "import pickle\n",
    "\n",
    "with open(PATH + '/rf3.cpickle', 'wb') as f:\n",
    "    pickle.dump(clf, f)\n",
    "\n",
    "\n",
    "# in your prediction file                                                                                                                                                                                                           \n",
    "\n",
    "with open(PATH + '/rf3.cpickle', 'rb') as f:\n",
    "    clf = pickle.load(f)\n",
    "\n",
    "\n",
    "preds = clf.predict(X_test)\n",
    "print(\"Accuracy:\",metrics.accuracy_score(Y_test, preds))"
   ]
  },
  {
   "cell_type": "code",
   "execution_count": 14,
   "metadata": {},
   "outputs": [
    {
     "name": "stdout",
     "output_type": "stream",
     "text": [
      "vel_Y                0.090303\n",
      "vel_X                0.089252\n",
      "distance_x_toexit    0.071055\n",
      "distance_y_toexit    0.069921\n",
      "relative_distance    0.063218\n",
      "localx_X             0.059608\n",
      "localx_Y             0.058764\n",
      "localy_X             0.055212\n",
      "localy_Y             0.054313\n",
      "relative_x           0.050920\n",
      "relative_y           0.048249\n",
      "acc_X                0.038007\n",
      "acc_Y                0.037084\n",
      "laneID_X             0.019610\n",
      "laneID_Y             0.018975\n",
      "direction_X__2.0     0.012633\n",
      "direction_X__4.0     0.012161\n",
      "direction_Y__2.0     0.011830\n",
      "direction_Y__4.0     0.011643\n",
      "exit_X__208.0        0.008234\n",
      "exit_Y__201.0        0.008048\n",
      "exit_Y__203.0        0.007780\n",
      "exit_Y__208.0        0.007743\n",
      "exit_X__201.0        0.007651\n",
      "exit_X__203.0        0.007335\n",
      "section_Y__0.0       0.004672\n",
      "int_X__2.0           0.004311\n",
      "section_X__0.0       0.004297\n",
      "int_X__0.0           0.004285\n",
      "section_X__2.0       0.003977\n",
      "                       ...   \n",
      "movement_Y__2.0      0.001637\n",
      "movement_X__2.0      0.001516\n",
      "exit_X__205.0        0.001409\n",
      "exit_Y__205.0        0.001322\n",
      "exit_Y__204.0        0.001320\n",
      "exit_X__204.0        0.001307\n",
      "section_X__5.0       0.001105\n",
      "direction_X__1.0     0.001104\n",
      "int_Y__1.0           0.001076\n",
      "direction_X__3.0     0.001061\n",
      "int_Y__4.0           0.000994\n",
      "int_X__1.0           0.000961\n",
      "section_Y__5.0       0.000949\n",
      "direction_Y__3.0     0.000909\n",
      "exit_X__210.0        0.000908\n",
      "direction_Y__1.0     0.000907\n",
      "int_X__4.0           0.000887\n",
      "int_Y__3.0           0.000826\n",
      "movement_X__3.0      0.000812\n",
      "exit_Y__210.0        0.000775\n",
      "int_X__3.0           0.000737\n",
      "movement_Y__3.0      0.000734\n",
      "exit_X__206.0        0.000460\n",
      "exit_Y__206.0        0.000446\n",
      "exit_Y__209.0        0.000272\n",
      "exit_X__209.0        0.000260\n",
      "section_X__1.0       0.000145\n",
      "section_Y__1.0       0.000118\n",
      "num_lanes            0.000000\n",
      "range                0.000000\n",
      "Length: 73, dtype: float64\n"
     ]
    }
   ],
   "source": [
    "import pandas as pd\n",
    "\n",
    "k = df.drop(['zero_to_10', 'ten_to_30', 'thirty_plus','duration'], axis=1)\n",
    "\n",
    "feature_imp = pd.Series(clf.feature_importances_,index=k.columns).sort_values(ascending=False)\n",
    "print(feature_imp)"
   ]
  },
  {
   "cell_type": "code",
   "execution_count": null,
   "metadata": {},
   "outputs": [],
   "source": [
    "df = df[df.zero_to_10 == 0]\n",
    "\n",
    "\n"
   ]
  },
  {
   "cell_type": "code",
   "execution_count": null,
   "metadata": {},
   "outputs": [],
   "source": []
  }
 ],
 "metadata": {
  "kernelspec": {
   "display_name": "Python 3",
   "language": "python",
   "name": "python3"
  },
  "language_info": {
   "codemirror_mode": {
    "name": "ipython",
    "version": 3
   },
   "file_extension": ".py",
   "mimetype": "text/x-python",
   "name": "python",
   "nbconvert_exporter": "python",
   "pygments_lexer": "ipython3",
   "version": "3.7.3"
  }
 },
 "nbformat": 4,
 "nbformat_minor": 2
}
