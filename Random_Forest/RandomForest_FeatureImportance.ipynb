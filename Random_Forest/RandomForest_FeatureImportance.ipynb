{
 "cells": [
  {
   "cell_type": "code",
   "execution_count": 9,
   "metadata": {},
   "outputs": [],
   "source": [
    "import os\n",
    "import numpy as np\n",
    "import pandas as pd\n",
    "\n",
    "from sklearn.model_selection import train_test_split\n",
    "from sklearn.ensemble import RandomForestClassifier\n",
    "from sklearn.preprocessing import StandardScaler\n",
    "from sklearn import metrics\n",
    "\n",
    "import pickle"
   ]
  },
  {
   "cell_type": "code",
   "execution_count": 2,
   "metadata": {},
   "outputs": [],
   "source": [
    "PATH = os.getcwd()"
   ]
  },
  {
   "cell_type": "code",
   "execution_count": 3,
   "metadata": {},
   "outputs": [],
   "source": [
    "df = pd.read_csv(PATH + \"/k.csv\", header=0)"
   ]
  },
  {
   "cell_type": "code",
   "execution_count": 6,
   "metadata": {
    "collapsed": true
   },
   "outputs": [
    {
     "name": "stdout",
     "output_type": "stream",
     "text": [
      "[-0.64923409 -0.24651235 -0.93413895 -0.00996126  1.8235459  -0.29653022\n",
      " -0.01320261  0.48326554  0.84267354  1.63258866 -1.11193887 -0.99865147\n",
      "  0.29622404  0.         -0.16826408 -0.87798355 -0.17167973  0.98307207\n",
      " -0.16993572 -0.87954157 -0.16976045  0.98462198  0.29264932 -0.23125378\n",
      " -0.17011084  0.29151515 -0.2300365  -0.16993572 -0.63301586  1.7335134\n",
      " -0.14243224 -0.13699209 -0.06702074 -0.2008671  -0.70454296 -0.06264629\n",
      " -0.09378206 -0.19965168 -0.63423638  1.73899567 -0.14416965 -0.13603013\n",
      " -0.06638264 -0.20207634 -0.7043642  -0.06354487 -0.09378206 -0.19911796\n",
      "  0.51339554 -0.17909107 -0.34596809 -0.17150603 -0.20950072  0.51142699\n",
      " -0.17758003 -0.34443742 -0.1712452  -0.20993919 -0.55542183 -0.03599129\n",
      " -0.63332096  1.37097616 -0.35270827 -0.13826506 -0.55329756 -0.03863663\n",
      " -0.63423638  1.3685981  -0.35296025 -0.13699209 -1.00843888 -0.84327938\n",
      "  0.        ]\n",
      "[ 6.72271914e-01 -1.00004740e+00 -9.45113098e-01 -3.32087273e-03\n",
      " -3.72744557e-01  8.72147078e-01 -1.14932275e+00 -8.76831049e-01\n",
      " -1.41802576e-02 -1.34083960e-01  3.67595476e-01  7.04002102e-01\n",
      " -5.21431889e-01  0.00000000e+00 -1.83717071e-01  1.13422147e+00\n",
      " -1.64420353e-01 -1.00736705e+00 -1.69228767e-01  1.15248700e+00\n",
      " -1.81497043e-01 -1.02175002e+00  2.94335970e-01 -2.25383833e-01\n",
      " -1.80003774e-01  3.04374449e-01 -2.36331304e-01 -1.81497043e-01\n",
      " -6.42327730e-01 -5.60298272e-01 -1.40982613e-01 -1.36240541e-01\n",
      " -6.17330998e-02 -2.11389100e-01  1.42311911e+00 -6.95136425e-02\n",
      " -1.06121806e-01 -1.99341020e-01 -6.31335149e-01 -5.76668340e-01\n",
      "  8.05294977e+00 -1.44672847e-01 -6.76510091e-02 -2.00709641e-01\n",
      " -7.04289879e-01 -6.17330998e-02 -1.06121806e-01 -2.04097235e-01\n",
      "  5.12546329e-01 -1.75457361e-01 -3.44426584e-01 -1.80751755e-01\n",
      " -2.05439098e-01  5.30215432e-01 -1.88808779e-01 -3.58067661e-01\n",
      " -1.82979668e-01 -2.01391002e-01 -5.52887033e-01 -5.03728801e-02\n",
      "  1.55970101e+00 -7.27340888e-01 -3.47178891e-01 -1.37201079e-01\n",
      " -5.71992140e-01 -2.75658923e-02  1.58001904e+00 -7.15984635e-01\n",
      " -3.44886176e-01 -1.48278621e-01  1.46999339e+00 -2.23610748e-01\n",
      "  0.00000000e+00]\n"
     ]
    }
   ],
   "source": [
    "X = df.drop(['zero_to_10', 'ten_to_30', 'thirty_plus','duration'], axis=1)\n",
    "Y = df[['zero_to_10', 'ten_to_30', 'thirty_plus']]\n",
    "\n",
    "X_train, X_test, Y_train, Y_test = train_test_split(X, Y, test_size = 0.10)\n",
    "\n",
    "scaler = StandardScaler()\n",
    "scaler.fit(X_train)\n",
    "X_train = scaler.transform(X_train)\n",
    "\n",
    "print(X_train[0][:] )\n",
    "\n",
    "scaler = StandardScaler()\n",
    "scaler.fit(X_test)\n",
    "X_test = scaler.transform(X_test)\n",
    "\n",
    "print(X_test[0][:] )"
   ]
  },
  {
   "cell_type": "code",
   "execution_count": 10,
   "metadata": {},
   "outputs": [
    {
     "name": "stdout",
     "output_type": "stream",
     "text": [
      "Accuracy: 0.6732472791698304\n"
     ]
    }
   ],
   "source": [
    "#Create a Gaussian Classifier\n",
    "clf=RandomForestClassifier(n_estimators=100)\n",
    "\n",
    "clf.fit(X_train,Y_train)\n",
    "\n",
    "y_pred=clf.predict(X_test)\n",
    "\n",
    "print(\"Accuracy:\",metrics.accuracy_score(Y_test, y_pred))"
   ]
  },
  {
   "cell_type": "code",
   "execution_count": 11,
   "metadata": {
    "scrolled": true
   },
   "outputs": [
    {
     "name": "stdout",
     "output_type": "stream",
     "text": [
      "vel_X                0.088947\n",
      "vel_Y                0.088175\n",
      "distance_y_toexit    0.072524\n",
      "distance_x_toexit    0.069352\n",
      "relative_distance    0.065017\n",
      "localx_Y             0.060051\n",
      "localx_X             0.058688\n",
      "localy_Y             0.055216\n",
      "localy_X             0.054727\n",
      "relative_x           0.051259\n",
      "relative_y           0.048209\n",
      "acc_Y                0.038947\n",
      "acc_X                0.037535\n",
      "laneID_X             0.019582\n",
      "laneID_Y             0.019400\n",
      "direction_X__2.0     0.014228\n",
      "direction_Y__2.0     0.011359\n",
      "direction_X__4.0     0.010836\n",
      "direction_Y__4.0     0.010791\n",
      "exit_X__201.0        0.008699\n",
      "exit_X__208.0        0.008210\n",
      "exit_Y__208.0        0.007956\n",
      "exit_Y__201.0        0.007671\n",
      "exit_X__203.0        0.007321\n",
      "exit_Y__203.0        0.007260\n",
      "section_X__0.0       0.004760\n",
      "int_X__0.0           0.004526\n",
      "section_Y__0.0       0.004352\n",
      "int_Y__2.0           0.004066\n",
      "int_Y__0.0           0.003851\n",
      "                       ...   \n",
      "movement_Y__2.0      0.001525\n",
      "movement_X__2.0      0.001495\n",
      "exit_Y__204.0        0.001432\n",
      "exit_X__205.0        0.001358\n",
      "exit_X__204.0        0.001308\n",
      "exit_Y__205.0        0.001251\n",
      "direction_X__1.0     0.001122\n",
      "direction_Y__1.0     0.001083\n",
      "direction_Y__3.0     0.000980\n",
      "int_Y__1.0           0.000974\n",
      "int_Y__4.0           0.000970\n",
      "direction_X__3.0     0.000966\n",
      "int_X__1.0           0.000908\n",
      "movement_X__3.0      0.000866\n",
      "section_Y__5.0       0.000839\n",
      "int_X__4.0           0.000834\n",
      "exit_Y__210.0        0.000831\n",
      "movement_Y__3.0      0.000819\n",
      "int_Y__3.0           0.000760\n",
      "int_X__3.0           0.000713\n",
      "exit_X__210.0        0.000712\n",
      "section_X__5.0       0.000707\n",
      "exit_Y__206.0        0.000415\n",
      "exit_X__206.0        0.000358\n",
      "exit_X__209.0        0.000294\n",
      "exit_Y__209.0        0.000252\n",
      "section_Y__1.0       0.000201\n",
      "section_X__1.0       0.000173\n",
      "num_lanes            0.000000\n",
      "range                0.000000\n",
      "Length: 73, dtype: float64\n"
     ]
    }
   ],
   "source": [
    "k = df.drop(['zero_to_10', 'ten_to_30', 'thirty_plus','duration'], axis=1)\n",
    "\n",
    "feature_imp = pd.Series(clf.feature_importances_,index=k.columns).sort_values(ascending=False)\n",
    "print(feature_imp)"
   ]
  },
  {
   "cell_type": "code",
   "execution_count": null,
   "metadata": {},
   "outputs": [],
   "source": []
  }
 ],
 "metadata": {
  "kernelspec": {
   "display_name": "Python 3",
   "language": "python",
   "name": "python3"
  },
  "language_info": {
   "codemirror_mode": {
    "name": "ipython",
    "version": 3
   },
   "file_extension": ".py",
   "mimetype": "text/x-python",
   "name": "python",
   "nbconvert_exporter": "python",
   "pygments_lexer": "ipython3",
   "version": "3.7.3"
  }
 },
 "nbformat": 4,
 "nbformat_minor": 2
}
