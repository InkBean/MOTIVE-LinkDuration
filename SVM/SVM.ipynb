{
 "cells": [
  {
   "cell_type": "code",
   "execution_count": 2,
   "metadata": {},
   "outputs": [],
   "source": [
    "import numpy as np\n",
    "import matplotlib.pyplot as plt\n",
    "import pandas as pd"
   ]
  },
  {
   "cell_type": "code",
   "execution_count": 3,
   "metadata": {},
   "outputs": [],
   "source": [
    "df = pd.read_csv(\"lank6.csv\", header=0)\n",
    "data = df.values"
   ]
  },
  {
   "cell_type": "code",
   "execution_count": 4,
   "metadata": {},
   "outputs": [
    {
     "name": "stdout",
     "output_type": "stream",
     "text": [
      "Index(['Unnamed: 0', 'Unnamed: 0.1.1.1.1', 'localx_X', 'localy_X', 'vel_X',\n",
      "       'acc_X', 'laneID_X', 'space_headway_X', 'localy_Y', 'vel_Y', 'acc_Y',\n",
      "       'laneID_Y', 'space_headway_Y', 'relative_x', 'relative_y',\n",
      "       'relative_distance', 'num_lanes', 'direction_X__1.0',\n",
      "       'direction_X__2.0', 'direction_X__3.0', 'direction_X__4.0',\n",
      "       'direction_Y__1.0', 'direction_Y__2.0', 'direction_Y__3.0',\n",
      "       'direction_Y__4.0', 'movement_X__1.0', 'movement_X__2.0',\n",
      "       'movement_X__3.0', 'movement_Y__1.0', 'movement_Y__2.0',\n",
      "       'movement_Y__3.0', 'exit_X__201.0', 'exit_X__203.0', 'exit_X__204.0',\n",
      "       'exit_X__205.0', 'exit_X__206.0', 'exit_X__207.0', 'exit_X__208.0',\n",
      "       'exit_X__209.0', 'exit_X__210.0', 'exit_X__211.0', 'exit_Y__201.0',\n",
      "       'exit_Y__203.0', 'exit_Y__204.0', 'exit_Y__205.0', 'exit_Y__206.0',\n",
      "       'exit_Y__207.0', 'exit_Y__208.0', 'exit_Y__209.0', 'exit_Y__210.0',\n",
      "       'exit_Y__211.0', 'int_X__0.0', 'int_X__1.0', 'int_X__2.0', 'int_X__3.0',\n",
      "       'int_X__4.0', 'int_Y__0.0', 'int_Y__1.0', 'int_Y__2.0', 'int_Y__3.0',\n",
      "       'int_Y__4.0', 'section_X__0.0', 'section_X__1.0', 'section_X__2.0',\n",
      "       'section_X__3.0', 'section_X__4.0', 'section_X__5.0', 'section_Y__0.0',\n",
      "       'section_Y__1.0', 'section_Y__2.0', 'section_Y__3.0', 'section_Y__4.0',\n",
      "       'section_Y__5.0', 'is_greater_10'],\n",
      "      dtype='object')\n"
     ]
    }
   ],
   "source": [
    "print(df.columns)"
   ]
  },
  {
   "cell_type": "code",
   "execution_count": 10,
   "metadata": {},
   "outputs": [],
   "source": [
    "X = df.drop(['Unnamed: 0', 'Unnamed: 0.1.1.1.1','is_greater_10'], axis=1)\n",
    "Y = df['is_greater_10']#,'ten_to_30','thirty_plus'"
   ]
  },
  {
   "cell_type": "code",
   "execution_count": 11,
   "metadata": {},
   "outputs": [],
   "source": [
    "from sklearn.model_selection import train_test_split\n",
    "X_train, X_test, Y_train, Y_test = train_test_split(X, Y, test_size = 0.10)"
   ]
  },
  {
   "cell_type": "code",
   "execution_count": 19,
   "metadata": {},
   "outputs": [
    {
     "name": "stdout",
     "output_type": "stream",
     "text": [
      "[ 0.2103271  -0.49961004 -0.09065195  1.46119231 -0.80709125 -0.52686793\n",
      " -0.51648348  1.05813759 -0.00992614 -0.14489827 -0.51453572  0.91916524\n",
      " -0.21204772 -0.94762126  0.         -0.17116066 -0.88011687 -0.17098649\n",
      "  0.98681212 -0.16870785 -0.8825346  -0.16958747  0.98703421 -3.3966714\n",
      "  4.36640158 -0.17563523  0.28975558 -0.22942932 -0.16800121 -0.63477209\n",
      "  1.74500751 -0.14356072 -0.13816137 -0.07558862 -0.20124859 -0.70245824\n",
      " -0.06465173 -0.09529754 -0.2000351   1.5906548  -0.57791318 -0.13731332\n",
      " -0.13752579 -0.05867726 -0.20109724 -0.71185522 -0.05963479 -0.09737921\n",
      " -0.19804977 -1.9406751  -0.1788426   2.88741838 -0.17529461 -0.20913781\n",
      " -1.95093922 -0.17850736  2.91058363 -0.17478259 -0.20928427  1.79187069\n",
      " -0.03676694 -0.63093673 -0.73078102 -0.35231047 -0.13495576  1.81043388\n",
      " -0.04179443 -0.63581869 -0.72752342 -0.35362051 -0.14046907]\n",
      "0.0\n",
      "[-0.60248339 -0.29087781  0.23976873 -1.07324947  1.93901128 -0.51395114\n",
      " -0.44751814  0.49432632  1.40833069 -0.6300733  -0.47634913  0.76344872\n",
      "  0.64116694 -0.44132697  0.         -0.18588968 -0.844861   -0.1723455\n",
      "  0.9583562  -0.15091165 -0.859015   -0.18147332  0.9583562   0.29984368\n",
      " -0.24396194 -0.16439899  0.2988401  -0.24279544 -0.16439899 -0.66270979\n",
      "  1.76056385 -0.15265644 -0.13813762 -0.06375767 -0.20407034 -0.6753912\n",
      " -0.07816636 -0.08137885 -0.20272121  1.54952661 -0.57735027 -0.16276826\n",
      " -0.11769986 -0.04503773 -0.21331349 -0.68334737 -0.06764241 -0.08447234\n",
      " -0.20674637  0.51325151 -0.1723455  -0.36205228 -0.15091165 -0.20807358\n",
      " -1.99118661 -0.18588968  2.8999179  -0.14373989 -0.20807358 -0.55552612\n",
      "  0.         -0.64064118  1.37130101 -0.34483735 -0.14189513  1.805165\n",
      " -0.02250176 -0.64064118 -0.73004883 -0.34483735 -0.14189513]\n"
     ]
    },
    {
     "ename": "KeyError",
     "evalue": "2",
     "output_type": "error",
     "traceback": [
      "\u001b[0;31m---------------------------------------------------------------------------\u001b[0m",
      "\u001b[0;31mKeyError\u001b[0m                                  Traceback (most recent call last)",
      "\u001b[0;32m<ipython-input-19-b174733787d2>\u001b[0m in \u001b[0;36m<module>\u001b[0;34m\u001b[0m\n\u001b[1;32m     13\u001b[0m \u001b[0;34m\u001b[0m\u001b[0m\n\u001b[1;32m     14\u001b[0m \u001b[0mprint\u001b[0m\u001b[0;34m(\u001b[0m\u001b[0mX_test\u001b[0m\u001b[0;34m[\u001b[0m\u001b[0;36m0\u001b[0m\u001b[0;34m]\u001b[0m\u001b[0;34m[\u001b[0m\u001b[0;34m:\u001b[0m\u001b[0;34m]\u001b[0m \u001b[0;34m)\u001b[0m\u001b[0;34m\u001b[0m\u001b[0;34m\u001b[0m\u001b[0m\n\u001b[0;32m---> 15\u001b[0;31m \u001b[0mprint\u001b[0m\u001b[0;34m(\u001b[0m\u001b[0mY_test\u001b[0m\u001b[0;34m[\u001b[0m\u001b[0;36m2\u001b[0m\u001b[0;34m]\u001b[0m\u001b[0;34m)\u001b[0m\u001b[0;34m\u001b[0m\u001b[0;34m\u001b[0m\u001b[0m\n\u001b[0m",
      "\u001b[0;32m~/anaconda3/lib/python3.7/site-packages/pandas/core/series.py\u001b[0m in \u001b[0;36m__getitem__\u001b[0;34m(self, key)\u001b[0m\n\u001b[1;32m    866\u001b[0m         \u001b[0mkey\u001b[0m \u001b[0;34m=\u001b[0m \u001b[0mcom\u001b[0m\u001b[0;34m.\u001b[0m\u001b[0mapply_if_callable\u001b[0m\u001b[0;34m(\u001b[0m\u001b[0mkey\u001b[0m\u001b[0;34m,\u001b[0m \u001b[0mself\u001b[0m\u001b[0;34m)\u001b[0m\u001b[0;34m\u001b[0m\u001b[0;34m\u001b[0m\u001b[0m\n\u001b[1;32m    867\u001b[0m         \u001b[0;32mtry\u001b[0m\u001b[0;34m:\u001b[0m\u001b[0;34m\u001b[0m\u001b[0;34m\u001b[0m\u001b[0m\n\u001b[0;32m--> 868\u001b[0;31m             \u001b[0mresult\u001b[0m \u001b[0;34m=\u001b[0m \u001b[0mself\u001b[0m\u001b[0;34m.\u001b[0m\u001b[0mindex\u001b[0m\u001b[0;34m.\u001b[0m\u001b[0mget_value\u001b[0m\u001b[0;34m(\u001b[0m\u001b[0mself\u001b[0m\u001b[0;34m,\u001b[0m \u001b[0mkey\u001b[0m\u001b[0;34m)\u001b[0m\u001b[0;34m\u001b[0m\u001b[0;34m\u001b[0m\u001b[0m\n\u001b[0m\u001b[1;32m    869\u001b[0m \u001b[0;34m\u001b[0m\u001b[0m\n\u001b[1;32m    870\u001b[0m             \u001b[0;32mif\u001b[0m \u001b[0;32mnot\u001b[0m \u001b[0mis_scalar\u001b[0m\u001b[0;34m(\u001b[0m\u001b[0mresult\u001b[0m\u001b[0;34m)\u001b[0m\u001b[0;34m:\u001b[0m\u001b[0;34m\u001b[0m\u001b[0;34m\u001b[0m\u001b[0m\n",
      "\u001b[0;32m~/anaconda3/lib/python3.7/site-packages/pandas/core/indexes/base.py\u001b[0m in \u001b[0;36mget_value\u001b[0;34m(self, series, key)\u001b[0m\n\u001b[1;32m   4373\u001b[0m         \u001b[0;32mtry\u001b[0m\u001b[0;34m:\u001b[0m\u001b[0;34m\u001b[0m\u001b[0;34m\u001b[0m\u001b[0m\n\u001b[1;32m   4374\u001b[0m             return self._engine.get_value(s, k,\n\u001b[0;32m-> 4375\u001b[0;31m                                           tz=getattr(series.dtype, 'tz', None))\n\u001b[0m\u001b[1;32m   4376\u001b[0m         \u001b[0;32mexcept\u001b[0m \u001b[0mKeyError\u001b[0m \u001b[0;32mas\u001b[0m \u001b[0me1\u001b[0m\u001b[0;34m:\u001b[0m\u001b[0;34m\u001b[0m\u001b[0;34m\u001b[0m\u001b[0m\n\u001b[1;32m   4377\u001b[0m             \u001b[0;32mif\u001b[0m \u001b[0mlen\u001b[0m\u001b[0;34m(\u001b[0m\u001b[0mself\u001b[0m\u001b[0;34m)\u001b[0m \u001b[0;34m>\u001b[0m \u001b[0;36m0\u001b[0m \u001b[0;32mand\u001b[0m \u001b[0;34m(\u001b[0m\u001b[0mself\u001b[0m\u001b[0;34m.\u001b[0m\u001b[0mholds_integer\u001b[0m\u001b[0;34m(\u001b[0m\u001b[0;34m)\u001b[0m \u001b[0;32mor\u001b[0m \u001b[0mself\u001b[0m\u001b[0;34m.\u001b[0m\u001b[0mis_boolean\u001b[0m\u001b[0;34m(\u001b[0m\u001b[0;34m)\u001b[0m\u001b[0;34m)\u001b[0m\u001b[0;34m:\u001b[0m\u001b[0;34m\u001b[0m\u001b[0;34m\u001b[0m\u001b[0m\n",
      "\u001b[0;32mpandas/_libs/index.pyx\u001b[0m in \u001b[0;36mpandas._libs.index.IndexEngine.get_value\u001b[0;34m()\u001b[0m\n",
      "\u001b[0;32mpandas/_libs/index.pyx\u001b[0m in \u001b[0;36mpandas._libs.index.IndexEngine.get_value\u001b[0;34m()\u001b[0m\n",
      "\u001b[0;32mpandas/_libs/index.pyx\u001b[0m in \u001b[0;36mpandas._libs.index.IndexEngine.get_loc\u001b[0;34m()\u001b[0m\n",
      "\u001b[0;32mpandas/_libs/hashtable_class_helper.pxi\u001b[0m in \u001b[0;36mpandas._libs.hashtable.Int64HashTable.get_item\u001b[0;34m()\u001b[0m\n",
      "\u001b[0;32mpandas/_libs/hashtable_class_helper.pxi\u001b[0m in \u001b[0;36mpandas._libs.hashtable.Int64HashTable.get_item\u001b[0;34m()\u001b[0m\n",
      "\u001b[0;31mKeyError\u001b[0m: 2"
     ]
    }
   ],
   "source": [
    "from sklearn.preprocessing import StandardScaler\n",
    "\n",
    "scaler = StandardScaler()\n",
    "scaler.fit(X_train)\n",
    "X_train = scaler.transform(X_train)\n",
    "\n",
    "print(X_train[0][:] )\n",
    "print(Y_train[0])\n",
    "\n",
    "scaler = StandardScaler()\n",
    "scaler.fit(X_test)\n",
    "X_test = scaler.transform(X_test)\n",
    "\n",
    "print(X_test[0][:] )\n",
    "#print(Y_test[2])"
   ]
  },
  {
   "cell_type": "code",
   "execution_count": 27,
   "metadata": {},
   "outputs": [
    {
     "name": "stderr",
     "output_type": "stream",
     "text": [
      "/Users/JunxiChen/anaconda3/lib/python3.7/site-packages/sklearn/svm/base.py:193: FutureWarning: The default value of gamma will change from 'auto' to 'scale' in version 0.22 to account better for unscaled features. Set gamma explicitly to 'auto' or 'scale' to avoid this warning.\n",
      "  \"avoid this warning.\", FutureWarning)\n"
     ]
    },
    {
     "data": {
      "text/plain": [
       "SVC(C=1.0, cache_size=200, class_weight=None, coef0=0.0,\n",
       "    decision_function_shape='ovr', degree=6, gamma='auto_deprecated',\n",
       "    kernel='poly', max_iter=-1, probability=False, random_state=None,\n",
       "    shrinking=True, tol=0.001, verbose=False)"
      ]
     },
     "execution_count": 27,
     "metadata": {},
     "output_type": "execute_result"
    }
   ],
   "source": [
    "from sklearn.svm import SVC\n",
    "svclassifier = SVC(kernel='poly', degree=6)\n",
    "svclassifier.fit(X_train, y_train)"
   ]
  },
  {
   "cell_type": "code",
   "execution_count": 28,
   "metadata": {},
   "outputs": [],
   "source": [
    "y_pred = svclassifier.predict(X_test)"
   ]
  },
  {
   "cell_type": "code",
   "execution_count": 29,
   "metadata": {},
   "outputs": [
    {
     "name": "stdout",
     "output_type": "stream",
     "text": [
      "[[805 200]\n",
      " [753 218]]\n",
      "              precision    recall  f1-score   support\n",
      "\n",
      "         0.0       0.52      0.80      0.63      1005\n",
      "         1.0       0.52      0.22      0.31       971\n",
      "\n",
      "    accuracy                           0.52      1976\n",
      "   macro avg       0.52      0.51      0.47      1976\n",
      "weighted avg       0.52      0.52      0.47      1976\n",
      "\n"
     ]
    }
   ],
   "source": [
    "from sklearn.metrics import classification_report, confusion_matrix\n",
    "print(confusion_matrix(y_test, y_pred))\n",
    "print(classification_report(y_test, y_pred))"
   ]
  },
  {
   "cell_type": "code",
   "execution_count": null,
   "metadata": {},
   "outputs": [],
   "source": []
  }
 ],
 "metadata": {
  "kernelspec": {
   "display_name": "Python 3",
   "language": "python",
   "name": "python3"
  },
  "language_info": {
   "codemirror_mode": {
    "name": "ipython",
    "version": 3
   },
   "file_extension": ".py",
   "mimetype": "text/x-python",
   "name": "python",
   "nbconvert_exporter": "python",
   "pygments_lexer": "ipython3",
   "version": "3.7.3"
  }
 },
 "nbformat": 4,
 "nbformat_minor": 2
}
