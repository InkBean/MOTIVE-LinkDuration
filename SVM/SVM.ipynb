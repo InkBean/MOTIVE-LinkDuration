{
 "cells": [
  {
   "cell_type": "code",
   "execution_count": 2,
   "metadata": {},
   "outputs": [],
   "source": [
    "import numpy as np\n",
    "import matplotlib.pyplot as plt\n",
    "import pandas as pd\n",
    "\n",
    "import os\n",
    "import numpy as np\n",
    "import pandas as pd\n",
    "import tensorflow as tf\n",
    "\n",
    "from sklearn.model_selection import train_test_split\n",
    "from sklearn.ensemble import RandomForestClassifier\n",
    "from sklearn import metrics\n",
    "\n",
    "import pickle"
   ]
  },
  {
   "cell_type": "code",
   "execution_count": 3,
   "metadata": {},
   "outputs": [
    {
     "name": "stdout",
     "output_type": "stream",
     "text": [
      "/Users/JunxiChen/Documents/MOTIVE_LinkDuration/SVM\n",
      "/Users/JunxiChen/Documents/MOTIVE_LinkDuration\n"
     ]
    }
   ],
   "source": [
    "PATH = os.getcwd()\n",
    "print(PATH)\n",
    "\n",
    "scriptdir = os.path.dirname(os.path.abspath(PATH))\n",
    "print(scriptdir)\n",
    "PATH = scriptdir"
   ]
  },
  {
   "cell_type": "code",
   "execution_count": 4,
   "metadata": {},
   "outputs": [],
   "source": [
    "X_train = pd.read_csv(PATH + \"/Train/X_train_5int.csv\", header=0)\n",
    "Y_train = pd.read_csv(PATH + \"/Train/Y_train_5int.csv\", header=0)\n",
    "\n",
    "X_test = pd.read_csv(PATH + \"/Test/X_test_5int.csv\", header=0)\n",
    "Y_test = pd.read_csv(PATH + \"/Test/Y_test_5int.csv\", header=0)"
   ]
  },
  {
   "cell_type": "code",
   "execution_count": null,
   "metadata": {},
   "outputs": [],
   "source": []
  },
  {
   "cell_type": "code",
   "execution_count": null,
   "metadata": {},
   "outputs": [],
   "source": []
  },
  {
   "cell_type": "code",
   "execution_count": null,
   "metadata": {},
   "outputs": [],
   "source": []
  },
  {
   "cell_type": "code",
   "execution_count": 10,
   "metadata": {},
   "outputs": [
    {
     "name": "stderr",
     "output_type": "stream",
     "text": [
      "/Users/JunxiChen/anaconda3/lib/python3.7/site-packages/sklearn/utils/validation.py:724: DataConversionWarning: A column-vector y was passed when a 1d array was expected. Please change the shape of y to (n_samples, ), for example using ravel().\n",
      "  y = column_or_1d(y, warn=True)\n",
      "/Users/JunxiChen/anaconda3/lib/python3.7/site-packages/sklearn/svm/base.py:193: FutureWarning: The default value of gamma will change from 'auto' to 'scale' in version 0.22 to account better for unscaled features. Set gamma explicitly to 'auto' or 'scale' to avoid this warning.\n",
      "  \"avoid this warning.\", FutureWarning)\n"
     ]
    },
    {
     "data": {
      "text/plain": [
       "SVC(C=1.0, cache_size=200, class_weight=None, coef0=0.0,\n",
       "    decision_function_shape='ovr', degree=3, gamma='auto_deprecated',\n",
       "    kernel='rbf', max_iter=-1, probability=False, random_state=None,\n",
       "    shrinking=True, tol=0.001, verbose=False)"
      ]
     },
     "execution_count": 10,
     "metadata": {},
     "output_type": "execute_result"
    }
   ],
   "source": [
    "from sklearn.svm import SVC\n",
    "svclassifier = SVC(kernel='rbf')\n",
    "svclassifier.fit(X_train, Y_train)"
   ]
  },
  {
   "cell_type": "code",
   "execution_count": 11,
   "metadata": {},
   "outputs": [],
   "source": [
    "y_pred = svclassifier.predict(X_test)"
   ]
  },
  {
   "cell_type": "code",
   "execution_count": 12,
   "metadata": {},
   "outputs": [
    {
     "name": "stdout",
     "output_type": "stream",
     "text": [
      "[[1172   66    1    0  127]\n",
      " [ 213  227    9    1  185]\n",
      " [  54   85   10    4  224]\n",
      " [  21   52    6    4  192]\n",
      " [  59   98   13    2 1125]]\n",
      "              precision    recall  f1-score   support\n",
      "\n",
      "         1.0       0.77      0.86      0.81      1366\n",
      "         2.0       0.43      0.36      0.39       635\n",
      "         3.0       0.26      0.03      0.05       377\n",
      "         4.0       0.36      0.01      0.03       275\n",
      "         5.0       0.61      0.87      0.71      1297\n",
      "\n",
      "    accuracy                           0.64      3950\n",
      "   macro avg       0.49      0.42      0.40      3950\n",
      "weighted avg       0.59      0.64      0.58      3950\n",
      "\n"
     ]
    }
   ],
   "source": [
    "from sklearn.metrics import classification_report, confusion_matrix\n",
    "print(confusion_matrix(Y_test, y_pred))\n",
    "print(classification_report(Y_test, y_pred))"
   ]
  },
  {
   "cell_type": "code",
   "execution_count": 13,
   "metadata": {},
   "outputs": [
    {
     "name": "stdout",
     "output_type": "stream",
     "text": [
      "[[11341   458    15     0   937]\n",
      " [ 1387  2516    39    14  1640]\n",
      " [  309   697   267    26  1938]\n",
      " [  186   453    50    77  1735]\n",
      " [  333   659    67    20 10390]]\n",
      "              precision    recall  f1-score   support\n",
      "\n",
      "         1.0       0.84      0.89      0.86     12751\n",
      "         2.0       0.53      0.45      0.48      5596\n",
      "         3.0       0.61      0.08      0.15      3237\n",
      "         4.0       0.56      0.03      0.06      2501\n",
      "         5.0       0.62      0.91      0.74     11469\n",
      "\n",
      "    accuracy                           0.69     35554\n",
      "   macro avg       0.63      0.47      0.46     35554\n",
      "weighted avg       0.68      0.69      0.64     35554\n",
      "\n"
     ]
    }
   ],
   "source": [
    "y_predt = svclassifier.predict(X_train)\n",
    "print(confusion_matrix(Y_train, y_predt))\n",
    "print(classification_report(Y_train, y_predt))"
   ]
  },
  {
   "cell_type": "code",
   "execution_count": null,
   "metadata": {},
   "outputs": [],
   "source": [
    "\n",
    "from sklearn import svm\n",
    "\n",
    "clf = svm.SVC(C=20, cache_size=200, class_weight=None, coef0=0.0,\n",
    "    decision_function_shape='ovr', degree=3, gamma='scale', kernel='linear',\n",
    "    max_iter=-1, probability=False, random_state=None, shrinking=True,\n",
    "    tol=0.001, verbose=False)\n",
    "#svm.SVC(gamma='scale')\n",
    "clf.fit(X_train, Y_train)  \n"
   ]
  },
  {
   "cell_type": "code",
   "execution_count": null,
   "metadata": {},
   "outputs": [],
   "source": [
    "y_pred = clf.predict(X_test)\n",
    "print(confusion_matrix(Y_test, y_pred))\n",
    "print(classification_report(Y_test, y_pred))"
   ]
  },
  {
   "cell_type": "code",
   "execution_count": null,
   "metadata": {},
   "outputs": [],
   "source": []
  }
 ],
 "metadata": {
  "kernelspec": {
   "display_name": "Python 3",
   "language": "python",
   "name": "python3"
  },
  "language_info": {
   "codemirror_mode": {
    "name": "ipython",
    "version": 3
   },
   "file_extension": ".py",
   "mimetype": "text/x-python",
   "name": "python",
   "nbconvert_exporter": "python",
   "pygments_lexer": "ipython3",
   "version": "3.7.3"
  }
 },
 "nbformat": 4,
 "nbformat_minor": 2
}
