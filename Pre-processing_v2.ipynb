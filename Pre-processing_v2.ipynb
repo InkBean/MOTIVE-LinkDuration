{
 "cells": [
  {
   "cell_type": "code",
   "execution_count": 5,
   "metadata": {},
   "outputs": [
    {
     "name": "stdout",
     "output_type": "stream",
     "text": [
      "/Users/JunxiChen/Documents/MOTIVE_LinkDuration\n"
     ]
    }
   ],
   "source": [
    "import os\n",
    "import pandas as pd\n",
    "import numpy as np\n",
    "\n",
    "print(os.getcwd())\n",
    "PATH = os.getcwd()\n"
   ]
  },
  {
   "cell_type": "code",
   "execution_count": 6,
   "metadata": {},
   "outputs": [],
   "source": [
    "P1 = PATH + \"/lank2.csv\"\n",
    "\n",
    "df = pd.read_csv(P1, encoding='utf-8', engine='python')"
   ]
  },
  {
   "cell_type": "code",
   "execution_count": 7,
   "metadata": {},
   "outputs": [
    {
     "name": "stdout",
     "output_type": "stream",
     "text": [
      "(19757, 33)\n",
      "Index(['Unnamed: 0', 'localx_X', 'localy_X', 'globalx_X', 'globaly_X',\n",
      "       'vlength_X', 'vwidth_X', 'vclass_X', 'vel_X', 'acc_X', 'laneID_X',\n",
      "       'dzone_X', 'int_X', 'section_X', 'direction_X', 'movement_X',\n",
      "       'space_headway_X', 'localy_Y', 'globalx_Y', 'globaly_Y', 'vlength_Y',\n",
      "       'vwidth_Y', 'vclass_Y', 'vel_Y', 'acc_Y', 'laneID_Y', 'dzone_Y',\n",
      "       'int_Y', 'section_Y', 'direction_Y', 'movement_Y', 'space_headway_Y',\n",
      "       'duration'],\n",
      "      dtype='object')\n"
     ]
    }
   ],
   "source": [
    "print(df.shape)\n",
    "print(df.columns)"
   ]
  },
  {
   "cell_type": "code",
   "execution_count": null,
   "metadata": {},
   "outputs": [],
   "source": []
  }
 ],
 "metadata": {
  "kernelspec": {
   "display_name": "Python 3",
   "language": "python",
   "name": "python3"
  },
  "language_info": {
   "codemirror_mode": {
    "name": "ipython",
    "version": 3
   },
   "file_extension": ".py",
   "mimetype": "text/x-python",
   "name": "python",
   "nbconvert_exporter": "python",
   "pygments_lexer": "ipython3",
   "version": "3.7.3"
  }
 },
 "nbformat": 4,
 "nbformat_minor": 2
}
