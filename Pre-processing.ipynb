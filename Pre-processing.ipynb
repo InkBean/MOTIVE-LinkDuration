{
 "cells": [
  {
   "cell_type": "code",
   "execution_count": 1,
   "metadata": {},
   "outputs": [
    {
     "name": "stdout",
     "output_type": "stream",
     "text": [
      "/Users/JunxiChen/Documents/MOTIVE_LinkDuration\n"
     ]
    }
   ],
   "source": [
    "import os\n",
    "import pandas as pd\n",
    "import numpy as np\n",
    "from sklearn.preprocessing import StandardScaler\n",
    "from sklearn.model_selection import train_test_split\n",
    "\n",
    "print(os.getcwd())\n",
    "PATH = os.getcwd()\n",
    "\n",
    "P_train = PATH + \"/Train/\" \n",
    "P_test = PATH + \"/Test/\" "
   ]
  },
  {
   "cell_type": "code",
   "execution_count": 2,
   "metadata": {},
   "outputs": [],
   "source": [
    "df = pd.read_csv(PATH + \"/data/k.csv\", header=0)"
   ]
  },
  {
   "cell_type": "code",
   "execution_count": 3,
   "metadata": {
    "collapsed": true
   },
   "outputs": [
    {
     "name": "stdout",
     "output_type": "stream",
     "text": [
      "[ 0.88604115 -1.36599893 -0.93649692 -0.00834893 -0.80722085  0.98480755\n",
      " -1.05571354 -0.8326763  -0.465786   -0.14757309  1.16218365  1.43702725\n",
      "  1.09754358  0.         -0.17098402 -0.87642758  5.79556049 -1.01664725\n",
      " -0.16844074  1.13572156 -0.17133218 -1.01447606 -3.3986771   4.31670058\n",
      " -0.17202664  0.29298899 -0.23030745 -0.17185326  1.57464249 -0.57569406\n",
      " -0.14232944 -0.13762994 -0.06508802 -0.20305437 -0.70190778 -0.06443112\n",
      " -0.09362935 -0.2001842  -0.63262362 -0.57526106 -0.14140107 -0.13752382\n",
      " -0.06659601 -0.20320448  1.42062129 -0.06398951 -0.09574592 -0.20094286\n",
      " -1.94153306  5.61264894 -0.34815531 -0.17176651 -0.20972005  0.51252079\n",
      " -0.17884    -0.34550929 -0.17254587 -0.20803359  1.79650779 -0.03752563\n",
      " -0.63393122 -0.72814073 -0.35200221 -0.13784194 -0.5546849  -0.03676642\n",
      "  1.57669921 -0.7292263  -0.35290986 -0.13762994 -1.29657275  1.53105031\n",
      "  0.        ]\n",
      "[-1.2649119  -0.32591734 -0.92647162 -0.01756324 -0.37437873 -1.2407599\n",
      " -0.26417727 -0.93496212 -0.01915625 -0.38057197  0.25514363  0.30704113\n",
      " -1.38630966  0.         -0.15948268 -0.89580327 -0.15611301  0.98767404\n",
      " -0.18223967 -0.85920394 -0.16763963  0.96884744  0.27987443 -0.22163876\n",
      " -0.1627894   0.29127906 -0.23393384 -0.16442035  1.602843   -0.57082303\n",
      " -0.14191345 -0.13033962 -0.07817631 -0.19166576 -0.72652751 -0.05283823\n",
      " -0.1073347  -0.19448666  1.54830504 -0.57471996 -0.15005175 -0.13134024\n",
      " -0.06573661 -0.19024189 -0.70831517 -0.05745579 -0.08892785 -0.18736623\n",
      "  0.49754687 -0.18371707 -0.32430668 -0.17849959 -0.20342352  0.52041006\n",
      " -0.17774332 -0.34855038 -0.17158793 -0.21847814 -0.5419531  -0.03899888\n",
      " -0.6356502   1.35360927 -0.35355339 -0.14098261 -0.55951838 -0.04504345\n",
      " -0.63290376  1.37180103 -0.34534542 -0.14283869 -0.4437744  -0.38579699\n",
      "  0.        ]\n"
     ]
    }
   ],
   "source": [
    "X = df.drop(['zero_to_10', 'ten_to_30', 'thirty_plus','duration'], axis=1)\n",
    "Y = df[['zero_to_10', 'ten_to_30', 'thirty_plus']]\n",
    "\n",
    "X_train, X_test, Y_train, Y_test = train_test_split(X, Y, test_size = 0.10)\n",
    "\n",
    "\n",
    "scaler = StandardScaler()\n",
    "scaler.fit(X_train)\n",
    "X_train = scaler.transform(X_train)\n",
    "\n",
    "print(X_train[0][:] )\n",
    "\n",
    "scaler = StandardScaler()\n",
    "scaler.fit(X_test)\n",
    "X_test = scaler.transform(X_test)\n",
    "\n",
    "print(X_test[0][:] )"
   ]
  },
  {
   "cell_type": "code",
   "execution_count": 4,
   "metadata": {},
   "outputs": [],
   "source": [
    "x_train = np.savetxt(PATH + \"X_train.csv\", X_train, delimiter=\",\",fmt = \"%s\")\n",
    "y_train = np.savetxt(PATH + \"Y_train.csv\", Y_train, delimiter=\",\",fmt = \"%s\")\n",
    "x_test = np.savetxt(PATH + \"X_test.csv\", X_test, delimiter=\",\",fmt = \"%s\")\n",
    "y_test = np.savetxt(PATH + \"Y_test.csv\", Y_test, delimiter=\",\",fmt = \"%s\")"
   ]
  },
  {
   "cell_type": "code",
   "execution_count": null,
   "metadata": {},
   "outputs": [],
   "source": []
  }
 ],
 "metadata": {
  "kernelspec": {
   "display_name": "Python 3",
   "language": "python",
   "name": "python3"
  },
  "language_info": {
   "codemirror_mode": {
    "name": "ipython",
    "version": 3
   },
   "file_extension": ".py",
   "mimetype": "text/x-python",
   "name": "python",
   "nbconvert_exporter": "python",
   "pygments_lexer": "ipython3",
   "version": "3.7.3"
  }
 },
 "nbformat": 4,
 "nbformat_minor": 2
}
