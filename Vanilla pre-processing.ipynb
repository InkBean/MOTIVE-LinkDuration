{
 "cells": [
  {
   "cell_type": "code",
   "execution_count": 1,
   "metadata": {},
   "outputs": [
    {
     "name": "stdout",
     "output_type": "stream",
     "text": [
      "/Users/JunxiChen/Documents/MOTIVE_LinkDuration\n",
      "/Users/JunxiChen/Documents/MOTIVE_LinkDuration/lankershim.csv\n"
     ]
    }
   ],
   "source": [
    "import os\n",
    "import pandas as pd\n",
    "import numpy as np\n",
    "\n",
    "print(os.getcwd())\n",
    "PATH = os.getcwd()\n",
    "P1 = PATH + \"/lankershim.csv\" # this is the original csv file that you want to extract contact duration from\n",
    "print(P1)"
   ]
  },
  {
   "cell_type": "code",
   "execution_count": 2,
   "metadata": {},
   "outputs": [],
   "source": [
    "df = pd.read_csv(P1, encoding='utf-8', engine='python')"
   ]
  },
  {
   "cell_type": "code",
   "execution_count": 3,
   "metadata": {},
   "outputs": [
    {
     "name": "stdout",
     "output_type": "stream",
     "text": [
      "(19757, 45)\n",
      "Index(['76', '74', '49.855', '60.078', '6451976.017000001', '1872834.3',\n",
      "       '13.9', '6.8', '2', '6.47', '0.0', '0', '102.0', '208.0', '1.0',\n",
      "       '0.0.1', '2.0', '3.0', '0.1', '0.2', '0.0.2', '0.0.3', 'lankershim',\n",
      "       '19.209', '103.615', '6451964.936000001', '1872887.604', '16.0', '7.0',\n",
      "       '2.1', '48.19', '5.08', '2.2', '101.0', '208.0.1', '0.0.4', '2.0.1',\n",
      "       '2.0.2', '1.0.1', '64', '0.3', '291.99', '6.06', 'lankershim.1',\n",
      "       '3300'],\n",
      "      dtype='object')\n"
     ]
    }
   ],
   "source": [
    "print(df.shape)\n",
    "print(df.columns)"
   ]
  },
  {
   "cell_type": "code",
   "execution_count": 4,
   "metadata": {},
   "outputs": [],
   "source": [
    "\n",
    "df.columns = ['ID_X', 'ID_Y', 'localx_X', 'localy_X', 'globalx_X', 'globaly_X', 'vlength_X','vwidth_X', 'vclass_X', 'vel_X',\n",
    "            'acc_X', 'laneID_X', 'ozone_X', 'dzone_X', 'int_X', 'section_X', 'direction_X', 'movement_X', 'preceeding_X',\n",
    "            'following_X', 'space_headway_X', 'time_headway_X', 'location_X', \n",
    "            'localx_Y', 'localy_Y', 'globalx_Y', 'globaly_Y', 'vlength_Y','vwidth_Y', 'vclass_Y', 'vel_Y',\n",
    "            'acc_Y', 'laneID_Y', 'ozone_Y', 'dzone_Y', 'int_Y', 'section_Y', 'direction_Y', 'movement_Y', 'preceeding_Y',\n",
    "            'following_Y', 'space_headway_Y', 'time_headway_Y', 'location_Y', 'duration']\n"
   ]
  },
  {
   "cell_type": "code",
   "execution_count": 5,
   "metadata": {},
   "outputs": [],
   "source": [
    "df = df.drop(['ID_X','ID_Y','ozone_X','ozone_Y','preceeding_X','preceeding_Y','following_X','following_Y',\n",
    "            'time_headway_X', 'time_headway_Y', 'localx_Y','location_Y', 'location_X'], axis=1)"
   ]
  },
  {
   "cell_type": "code",
   "execution_count": 6,
   "metadata": {},
   "outputs": [
    {
     "name": "stdout",
     "output_type": "stream",
     "text": [
      "Index(['localx_X', 'localy_X', 'globalx_X', 'globaly_X', 'vlength_X',\n",
      "       'vwidth_X', 'vclass_X', 'vel_X', 'acc_X', 'laneID_X', 'dzone_X',\n",
      "       'int_X', 'section_X', 'direction_X', 'movement_X', 'space_headway_X',\n",
      "       'localy_Y', 'globalx_Y', 'globaly_Y', 'vlength_Y', 'vwidth_Y',\n",
      "       'vclass_Y', 'vel_Y', 'acc_Y', 'laneID_Y', 'dzone_Y', 'int_Y',\n",
      "       'section_Y', 'direction_Y', 'movement_Y', 'space_headway_Y',\n",
      "       'duration'],\n",
      "      dtype='object')\n"
     ]
    }
   ],
   "source": [
    "print(df.columns)"
   ]
  },
  {
   "cell_type": "code",
   "execution_count": 7,
   "metadata": {},
   "outputs": [],
   "source": [
    "df.to_csv('lank2.csv') # this version is "
   ]
  },
  {
   "cell_type": "code",
   "execution_count": null,
   "metadata": {},
   "outputs": [],
   "source": []
  },
  {
   "cell_type": "code",
   "execution_count": 8,
   "metadata": {},
   "outputs": [],
   "source": [
    "data = df.to_numpy()"
   ]
  },
  {
   "cell_type": "code",
   "execution_count": 9,
   "metadata": {},
   "outputs": [
    {
     "name": "stdout",
     "output_type": "stream",
     "text": [
      "number of samples = 19757\n",
      "number of features = 32\n",
      "[3.21840000e+01 1.73840000e+02 6.45200376e+06 1.87294752e+06\n",
      " 1.42000000e+01 7.00000000e+00 2.00000000e+00 3.75200000e+01\n",
      " 4.46000000e+00 3.00000000e+00 2.05000000e+02 0.00000000e+00\n",
      " 2.00000000e+00 2.00000000e+00 1.00000000e+00 0.00000000e+00\n",
      " 4.45080000e+01 6.45194147e+06 1.87283274e+06 1.56000000e+01\n",
      " 6.60000000e+00 2.00000000e+00 3.85900000e+01 0.00000000e+00\n",
      " 2.00000000e+00 2.03000000e+02 1.00000000e+00 0.00000000e+00\n",
      " 2.00000000e+00 1.00000000e+00 1.93890000e+02]\n",
      "7600.0\n",
      "3.0\n"
     ]
    }
   ],
   "source": [
    "#4, 5, 25,26\n",
    "num_samples = df.shape[0]\n",
    "num_features = df.shape[1]\n",
    "print(\"number of samples = \" + str(num_samples))\n",
    "print(\"number of features = \" + str(num_features))\n",
    "print(data[0][:num_features-1])\n",
    "print(data[0][num_features-1])\n",
    "\n",
    "print(data[153][9])"
   ]
  },
  {
   "cell_type": "code",
   "execution_count": 10,
   "metadata": {},
   "outputs": [],
   "source": [
    "after = []\n",
    "num_lanes = 3\n",
    "\n",
    "for i in range(num_samples):\n",
    "    relative_x = (data[i][2] - data[i][17])/3.28\n",
    "    relative_y = (data[i][3] - data[i][18])/3.28\n",
    "    relative_distance = np.linalg.norm([relative_x, relative_y])\n",
    "    #print(relative_x, relative_y, relative_distance)\n",
    "    '''\n",
    "    if data[i][9] == 11 or data[i][9] == 12:\n",
    "        print(1)\n",
    "        data[i][9] = 0 # furthest left\n",
    "    if data[i][9] == 31:\n",
    "        print(2)\n",
    "        data[i][9] = 4 # furthest right\n",
    "    if data[i][24] == 11 or data[i][24] == 12:\n",
    "        print(3)\n",
    "        data[i][24] = 0 # furthest left\n",
    "    if data[i][24] == 31:\n",
    "        print(4)\n",
    "        data[i][24] = 4 # furthest right\n",
    "    '''\n",
    "    #print(data[i][9])\n",
    "    duration = data[i][num_features-1]\n",
    "    a = list(data[i][:num_features-1])\n",
    "    a.extend([relative_x, relative_y, relative_distance, num_lanes, duration])\n",
    "    #print(a)\n",
    "    after.append(a)\n"
   ]
  },
  {
   "cell_type": "code",
   "execution_count": 11,
   "metadata": {},
   "outputs": [],
   "source": [
    "#convert the list to a numpy array        \n",
    "output_array = np.asarray(after)    \n",
    "\n",
    "# convert the numpy array to a csv file.\n",
    "lankershim3 = np.savetxt(\"lank3.csv\", output_array, delimiter=\",\",fmt = \"%s\")"
   ]
  },
  {
   "cell_type": "code",
   "execution_count": 12,
   "metadata": {},
   "outputs": [],
   "source": [
    "P3 = PATH + \"/lank3.csv\"\n",
    "df = pd.read_csv(P3, encoding='utf-8', engine='python')\n",
    "\n",
    "df.columns = (['localx_X', 'localy_X', 'globalx_X', 'globaly_X', 'vlength_X',\n",
    "       'vwidth_X', 'vclass_X', 'vel_X', 'acc_X', 'laneID_X', 'dzone_X',\n",
    "       'int_X', 'section_X', 'direction_X', 'movement_X', 'space_headway_X',\n",
    "       'localy_Y', 'globalx_Y', 'globaly_Y', 'vlength_Y', 'vwidth_Y',\n",
    "       'vclass_Y', 'vel_Y', 'acc_Y', 'laneID_Y', 'dzone_Y', 'int_Y',\n",
    "       'section_Y', 'direction_Y', 'movement_Y', 'space_headway_Y', \n",
    "        'relative_x', 'relative_y', 'relative_distance','num_lanes',\n",
    "       'duration', ])\n",
    "\n",
    "df = df.drop(['vlength_X','vwidth_X', 'vclass_X', 'vlength_Y', 'vwidth_Y','vclass_Y',\n",
    "             'globalx_X', 'globaly_X', 'globalx_Y', 'globaly_Y'], axis=1)\n",
    "\n",
    "df.to_csv('lank3.csv')\n",
    "\n",
    "\n",
    "\n",
    "# remove some of the redundant features, convert global location to relative location\n",
    "# some adjustment to lane_id\n",
    "\n",
    "# the next step(lank4) can be to turn \"direction\" and \"movement\", and \"dzone\" to one-hot vectors. \n",
    "# add \"is_following\", one-hot or boolean to represent that the vehicle is following someone, so space_headway can be in use\n",
    "\n",
    "# further next step(lank5) would be to replace \"dzone\" with \"distance_to_exit\""
   ]
  },
  {
   "cell_type": "code",
   "execution_count": 51,
   "metadata": {},
   "outputs": [
    {
     "name": "stdout",
     "output_type": "stream",
     "text": [
      "Index(['Unnamed: 0', 'localx_X', 'localy_X', 'vel_X', 'acc_X', 'laneID_X',\n",
      "       'int_X', 'section_X', 'space_headway_X', 'localy_Y', 'vel_Y', 'acc_Y',\n",
      "       'laneID_Y', 'int_Y', 'section_Y', 'space_headway_Y', 'relative_x',\n",
      "       'relative_y', 'relative_distance', 'num_lanes', 'duration',\n",
      "       'direction_X__1.0', 'direction_X__2.0', 'direction_X__3.0',\n",
      "       'direction_X__4.0', 'direction_Y__1.0', 'direction_Y__2.0',\n",
      "       'direction_Y__3.0', 'direction_Y__4.0', 'movement_X__1.0',\n",
      "       'movement_X__2.0', 'movement_X__3.0', 'movement_Y__1.0',\n",
      "       'movement_Y__2.0', 'movement_Y__3.0', 'exit_X__201.0', 'exit_X__203.0',\n",
      "       'exit_X__204.0', 'exit_X__205.0', 'exit_X__206.0', 'exit_X__207.0',\n",
      "       'exit_X__208.0', 'exit_X__209.0', 'exit_X__210.0', 'exit_X__211.0',\n",
      "       'exit_Y__201.0', 'exit_Y__203.0', 'exit_Y__204.0', 'exit_Y__205.0',\n",
      "       'exit_Y__206.0', 'exit_Y__207.0', 'exit_Y__208.0', 'exit_Y__209.0',\n",
      "       'exit_Y__210.0', 'exit_Y__211.0'],\n",
      "      dtype='object')\n",
      "[ 1.00000000e+00  7.18410000e+01  4.46091000e+02  0.00000000e+00\n",
      "  0.00000000e+00  2.00000000e+00  0.00000000e+00  0.00000000e+00\n",
      "  0.00000000e+00  3.87964000e+02  3.82700000e+01 -3.96000000e+00\n",
      "  2.00000000e+00  2.00000000e+00  0.00000000e+00  0.00000000e+00\n",
      "  2.19737805e+01  7.07926829e+00  2.30859929e+01  3.00000000e+00\n",
      "  5.20000000e+03  0.00000000e+00  0.00000000e+00  1.00000000e+00\n",
      "  0.00000000e+00  0.00000000e+00  1.00000000e+00  0.00000000e+00\n",
      "  0.00000000e+00  1.00000000e+00  0.00000000e+00  0.00000000e+00\n",
      "  1.00000000e+00  0.00000000e+00  0.00000000e+00  0.00000000e+00\n",
      "  0.00000000e+00  0.00000000e+00  0.00000000e+00  0.00000000e+00\n",
      "  0.00000000e+00  0.00000000e+00  0.00000000e+00  0.00000000e+00\n",
      "  1.00000000e+00  0.00000000e+00  0.00000000e+00  0.00000000e+00\n",
      "  0.00000000e+00  0.00000000e+00  0.00000000e+00  1.00000000e+00\n",
      "  0.00000000e+00  0.00000000e+00  0.00000000e+00]\n",
      "19756\n",
      "55\n"
     ]
    }
   ],
   "source": [
    "# lank4\n",
    "df = pd.read_csv(P3, encoding='utf-8', engine='python')\n",
    "\n",
    "#,dtype={'movement_X':int}\n",
    "categorical = ['dzone_X', 'dzone_Y', 'int_X', 'int_Y', 'section_X', 'section_Y',\n",
    "                       'direction_X', 'direction_Y', 'movement_X', 'movement_Y']\n",
    "\n",
    "data = df.values \n",
    "\n",
    "#for heading in categorical:\n",
    "    #df[str(heading)] = pd.get_dummies(df[str(heading)]).values\n",
    "\n",
    "    \n",
    "df = pd.get_dummies(df, columns=[\"direction_X\", \"direction_Y\"], prefix=[\"direction_X_\", \"direction_Y_\"])\n",
    "df = pd.get_dummies(df, columns=[\"movement_X\", \"movement_Y\"], prefix=[\"movement_X_\", \"movement_Y_\"])\n",
    "df = pd.get_dummies(df, columns=[\"dzone_X\", \"dzone_Y\"], prefix=[\"exit_X_\", \"exit_Y_\"])\n",
    "\n",
    "print(df.columns)\n",
    "data = df.values \n",
    "print(data[1][:])\n",
    "print(df.shape[0])\n",
    "print(df.shape[1])\n",
    "\n",
    "df.to_csv('lank4.csv')\n",
    "\n",
    "#df = pd.DataFrame({'country': ['russia', 'germany', 'australia','korea','germany']})\n",
    "#pd.get_dummies(df,prefix=['country'])"
   ]
  },
  {
   "cell_type": "code",
   "execution_count": 47,
   "metadata": {},
   "outputs": [
    {
     "name": "stdout",
     "output_type": "stream",
     "text": [
      "Index(['Unnamed: 0', 'Unnamed: 0.1', 'localx_X', 'localy_X', 'vel_X', 'acc_X',\n",
      "       'laneID_X', 'int_X', 'section_X', 'direction_X', 'movement_X',\n",
      "       'space_headway_X', 'localy_Y', 'vel_Y', 'acc_Y', 'laneID_Y', 'int_Y',\n",
      "       'section_Y', 'direction_Y', 'movement_Y', 'space_headway_Y',\n",
      "       'relative_x', 'relative_y', 'relative_distance', 'num_lanes',\n",
      "       'duration', 'exit_X__201.0', 'exit_X__203.0', 'exit_X__204.0',\n",
      "       'exit_X__205.0', 'exit_X__206.0', 'exit_X__207.0', 'exit_X__208.0',\n",
      "       'exit_X__209.0', 'exit_X__210.0', 'exit_X__211.0', 'exit_Y__201.0',\n",
      "       'exit_Y__203.0', 'exit_Y__204.0', 'exit_Y__205.0', 'exit_Y__206.0',\n",
      "       'exit_Y__207.0', 'exit_Y__208.0', 'exit_Y__209.0', 'exit_Y__210.0',\n",
      "       'exit_Y__211.0'],\n",
      "      dtype='object')\n",
      "[ 1.00000000e+00  1.00000000e+00  7.18410000e+01  4.46091000e+02\n",
      "  0.00000000e+00  0.00000000e+00  2.00000000e+00  0.00000000e+00\n",
      "  0.00000000e+00  3.00000000e+00  1.00000000e+00  0.00000000e+00\n",
      "  3.87964000e+02  3.82700000e+01 -3.96000000e+00  2.00000000e+00\n",
      "  2.00000000e+00  0.00000000e+00  2.00000000e+00  1.00000000e+00\n",
      "  0.00000000e+00  2.19737805e+01  7.07926829e+00  2.30859929e+01\n",
      "  3.00000000e+00  5.20000000e+03  0.00000000e+00  0.00000000e+00\n",
      "  0.00000000e+00  0.00000000e+00  0.00000000e+00  0.00000000e+00\n",
      "  0.00000000e+00  0.00000000e+00  0.00000000e+00  1.00000000e+00\n",
      "  0.00000000e+00  0.00000000e+00  0.00000000e+00  0.00000000e+00\n",
      "  0.00000000e+00  0.00000000e+00  1.00000000e+00  0.00000000e+00\n",
      "  0.00000000e+00  0.00000000e+00]\n"
     ]
    }
   ],
   "source": [
    "#lank4 continue\n",
    "P4 = PATH + \"/lank4.csv\"\n",
    "df = pd.read_csv(P4, encoding='utf-8', engine='python')\n",
    "\n",
    "data = df.values \n",
    "\n",
    "#df = pd.get_dummies(df, columns=[\"direction_X\"], prefix=[\"direction_X_\"]).head()\n",
    "#df = pd.get_dummies(df, columns=[\"direction_X\", \"direction_Y\"], prefix=[\"direction_X_\", \"direction_Y_\"]).head()\n",
    "#df = pd.get_dummies(df, columns=[\"movement_X\", \"movement_Y\"], prefix=[\"movement_X_\", \"movement_Y_\"]).head()\n",
    "\n",
    "print(df.columns)\n",
    "data = df.values \n",
    "print(data[1][:])\n",
    "\n",
    "df.to_csv('lank4.csv')"
   ]
  },
  {
   "cell_type": "code",
   "execution_count": null,
   "metadata": {},
   "outputs": [],
   "source": []
  }
 ],
 "metadata": {
  "kernelspec": {
   "display_name": "Python 3",
   "language": "python",
   "name": "python3"
  },
  "language_info": {
   "codemirror_mode": {
    "name": "ipython",
    "version": 3
   },
   "file_extension": ".py",
   "mimetype": "text/x-python",
   "name": "python",
   "nbconvert_exporter": "python",
   "pygments_lexer": "ipython3",
   "version": "3.7.3"
  }
 },
 "nbformat": 4,
 "nbformat_minor": 2
}
