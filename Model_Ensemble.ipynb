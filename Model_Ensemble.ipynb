{
 "cells": [
  {
   "cell_type": "code",
   "execution_count": 1,
   "metadata": {},
   "outputs": [
    {
     "name": "stdout",
     "output_type": "stream",
     "text": [
      "2.0.0-beta0\n"
     ]
    }
   ],
   "source": [
    "import tensorflow as tf\n",
    "from tensorflow import keras\n",
    "\n",
    "from time import time\n",
    "from tensorflow.python.keras.callbacks import TensorBoard\n",
    "\n",
    "import os\n",
    "import numpy as np\n",
    "import pandas as pd\n",
    "import matplotlib.pyplot as plt\n",
    "\n",
    "from sklearn.preprocessing import StandardScaler\n",
    "\n",
    "import pickle\n",
    "from sklearn import metrics\n",
    "\n",
    "print(tf.__version__)"
   ]
  },
  {
   "cell_type": "code",
   "execution_count": 2,
   "metadata": {},
   "outputs": [],
   "source": [
    "PATH = os.getcwd()"
   ]
  },
  {
   "cell_type": "code",
   "execution_count": 4,
   "metadata": {},
   "outputs": [],
   "source": [
    "X_train = pd.read_csv(PATH + \"/Train/X_train.csv\", header=0)\n",
    "Y_train = pd.read_csv(PATH + \"/Train/Y_train.csv\", header=0)\n",
    "\n",
    "X_test = pd.read_csv(PATH + \"/Test/X_test.csv\", header=0)\n",
    "Y_test = pd.read_csv(PATH + \"/Test/Y_test.csv\", header=0)"
   ]
  },
  {
   "cell_type": "code",
   "execution_count": 5,
   "metadata": {},
   "outputs": [],
   "source": [
    "def ensemble_prediction(predictions):\n",
    "    after = []\n",
    "    #final_pred = np.zeros(3)\n",
    "    for i in range(0,len(X_test)):\n",
    "        if np.array_equal(predictions[0][i],predictions[1][i]):\n",
    "            mo = predictions[0][i]\n",
    "            after.append(list(mo))\n",
    "            continue\n",
    "        if np.array_equal(predictions[0][i],predictions[2][i]):\n",
    "            mo = predictions[0][i]\n",
    "            after.append(list(mo))\n",
    "            continue\n",
    "        if np.array_equal(predictions[1][i],predictions[2][i]):\n",
    "            mo = predictions[1][i]\n",
    "            after.append(list(mo))\n",
    "            continue\n",
    "        after.append(list(mo))\n",
    "    out = np.asarray(after)\n",
    "    return out"
   ]
  },
  {
   "cell_type": "code",
   "execution_count": 7,
   "metadata": {},
   "outputs": [],
   "source": []
  },
  {
   "cell_type": "code",
   "execution_count": 7,
   "metadata": {},
   "outputs": [],
   "source": [
    "with open(PATH + '/Random_Forest/rf3.cpickle', 'rb') as f:\n",
    "    clf = pickle.load(f)"
   ]
  },
  {
   "cell_type": "code",
   "execution_count": 15,
   "metadata": {},
   "outputs": [
    {
     "name": "stdout",
     "output_type": "stream",
     "text": [
      "(3950, 3)\n"
     ]
    }
   ],
   "source": [
    "model1 = keras.models.load_model(PATH + '/NN_models/3layers_mlp.h5')\n",
    "model2 = keras.models.load_model(PATH + '/NN_models/5layers_residual.h5')\n",
    "model3 = clf\n",
    "\n",
    "pred1=model1.predict(X_test)\n",
    "pred1 = tf.one_hot(tf.argmax(pred1, axis=1), depth = 3)\n",
    "pred2=model2.predict(X_test)\n",
    "pred2 = tf.one_hot(tf.argmax(pred2, axis=1), depth = 3)\n",
    "pred3=model3.predict(X_test)\n",
    "\n",
    "#print(pred2)\n",
    "\n",
    "predictions = [pred1, pred2, pred3]\n",
    "print(pred1.shape)"
   ]
  },
  {
   "cell_type": "code",
   "execution_count": 9,
   "metadata": {},
   "outputs": [
    {
     "name": "stdout",
     "output_type": "stream",
     "text": [
      "(3950, 3)\n",
      "(3950, 3)\n"
     ]
    }
   ],
   "source": [
    "print(pred2.shape)\n",
    "print(pred3.shape)"
   ]
  },
  {
   "cell_type": "code",
   "execution_count": 19,
   "metadata": {},
   "outputs": [
    {
     "name": "stdout",
     "output_type": "stream",
     "text": [
      "(3950, 3)\n",
      "Accuracy: 0.7610126582278481\n"
     ]
    }
   ],
   "source": [
    "Y_ensemble = ensemble_prediction(predictions)\n",
    "print(Y_ensemble.shape)\n",
    "print(\"Accuracy:\",metrics.accuracy_score(Y_test, pred1))"
   ]
  },
  {
   "cell_type": "code",
   "execution_count": null,
   "metadata": {},
   "outputs": [],
   "source": []
  }
 ],
 "metadata": {
  "kernelspec": {
   "display_name": "Python 3",
   "language": "python",
   "name": "python3"
  },
  "language_info": {
   "codemirror_mode": {
    "name": "ipython",
    "version": 3
   },
   "file_extension": ".py",
   "mimetype": "text/x-python",
   "name": "python",
   "nbconvert_exporter": "python",
   "pygments_lexer": "ipython3",
   "version": "3.7.3"
  }
 },
 "nbformat": 4,
 "nbformat_minor": 2
}
