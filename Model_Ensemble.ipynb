{
 "cells": [
  {
   "cell_type": "code",
   "execution_count": 1,
   "metadata": {},
   "outputs": [
    {
     "name": "stdout",
     "output_type": "stream",
     "text": [
      "2.0.0-beta0\n"
     ]
    }
   ],
   "source": [
    "import tensorflow as tf\n",
    "from tensorflow import keras\n",
    "\n",
    "from time import time\n",
    "from tensorflow.python.keras.callbacks import TensorBoard\n",
    "\n",
    "import os\n",
    "import numpy as np\n",
    "import pandas as pd\n",
    "import matplotlib.pyplot as plt\n",
    "\n",
    "from sklearn.preprocessing import StandardScaler\n",
    "\n",
    "import pickle\n",
    "from sklearn import metrics\n",
    "\n",
    "print(tf.__version__)"
   ]
  },
  {
   "cell_type": "code",
   "execution_count": 2,
   "metadata": {},
   "outputs": [],
   "source": [
    "PATH = os.getcwd()"
   ]
  },
  {
   "cell_type": "code",
   "execution_count": 4,
   "metadata": {},
   "outputs": [],
   "source": [
    "X_train = pd.read_csv(PATH + \"/Train/X_train.csv\", header=0)\n",
    "Y_train = pd.read_csv(PATH + \"/Train/Y_train.csv\", header=0)\n",
    "\n",
    "X_test = pd.read_csv(PATH + \"/Test/X_test.csv\", header=0)\n",
    "Y_test = pd.read_csv(PATH + \"/Test/Y_test.csv\", header=0)"
   ]
  },
  {
   "cell_type": "code",
   "execution_count": 154,
   "metadata": {},
   "outputs": [],
   "source": [
    "def ensemble_prediction(predictions):\n",
    "    after = []\n",
    "    j = 0\n",
    "    for i in range(0,len(X_test)):\n",
    "        if np.array_equal(predictions[0][i],predictions[1][i]):\n",
    "            mo = predictions[0][i]\n",
    "            after.append(list(mo))\n",
    "            continue\n",
    "        if np.array_equal(predictions[0][i],predictions[2][i]):\n",
    "            mo = predictions[0][i]\n",
    "            after.append(list(mo))\n",
    "            continue\n",
    "        if np.array_equal(predictions[1][i],predictions[2][i]):\n",
    "            mo = predictions[1][i]\n",
    "            after.append(list(mo))\n",
    "            continue\n",
    "        j = j+1\n",
    "        after.append(list(predictions[1][i]))\n",
    "    out = np.asarray(after)\n",
    "    return out, j"
   ]
  },
  {
   "cell_type": "code",
   "execution_count": 7,
   "metadata": {},
   "outputs": [],
   "source": []
  },
  {
   "cell_type": "code",
   "execution_count": 130,
   "metadata": {},
   "outputs": [],
   "source": [
    "with open(PATH + '/Random_Forest/rf3.cpickle', 'rb') as f:\n",
    "    rf = pickle.load(f)\n",
    "\n",
    "with open(PATH + '/Decision_Tree/dt3.cpickle', 'rb') as f:\n",
    "    dt = pickle.load(f)"
   ]
  },
  {
   "cell_type": "code",
   "execution_count": 131,
   "metadata": {},
   "outputs": [
    {
     "name": "stdout",
     "output_type": "stream",
     "text": [
      "(3950, 3)\n"
     ]
    }
   ],
   "source": [
    "#model1 = keras.models.load_model(PATH + '/NN_models/3layers_mlp.h5')\n",
    "model1 = dt\n",
    "model2 = keras.models.load_model(PATH + '/NN_models/5layers_residual.h5')\n",
    "#model3 = keras.models.load_model(PATH + '/NN_models/5layers_residual2.h5')\n",
    "model3 = rf\n",
    "\n",
    "pred1 = model1.predict(X_test)\n",
    "pred1 = tf.one_hot(tf.argmax(pred1, axis=1), depth = 3)\n",
    "pred2 = model2.predict(X_test)\n",
    "pred2 = tf.one_hot(tf.argmax(pred2, axis=1), depth = 3)\n",
    "pred3 = model3.predict(X_test)\n",
    "pred3 = tf.one_hot(tf.argmax(pred3, axis=1), depth = 3)\n",
    "\n",
    "predictions = [pred1, pred2, pred3]\n",
    "print(pred1.shape)"
   ]
  },
  {
   "cell_type": "code",
   "execution_count": 133,
   "metadata": {},
   "outputs": [
    {
     "name": "stdout",
     "output_type": "stream",
     "text": [
      "(3950, 3)\n",
      "(3950, 3)\n",
      "Accuracy: 0.6820253164556962\n"
     ]
    }
   ],
   "source": [
    "print(pred2.shape)\n",
    "print(pred3.shape)\n",
    "print(\"Accuracy:\",metrics.accuracy_score(Y_test, pred1))"
   ]
  },
  {
   "cell_type": "code",
   "execution_count": 157,
   "metadata": {},
   "outputs": [
    {
     "name": "stdout",
     "output_type": "stream",
     "text": [
      "(3950, 3)\n",
      "290\n",
      "Accuracy: 0.759493670886076\n"
     ]
    }
   ],
   "source": [
    "Y_ensemble,i = ensemble_prediction(predictions)\n",
    "print(Y_ensemble.shape)\n",
    "print(i)\n",
    "print(\"Accuracy:\",metrics.accuracy_score(Y_test, Y_ensemble))\n",
    "#2810, 314, 536, 290"
   ]
  },
  {
   "cell_type": "code",
   "execution_count": 141,
   "metadata": {},
   "outputs": [
    {
     "name": "stdout",
     "output_type": "stream",
     "text": [
      "Accuracy: 0.7020253164556962\n"
     ]
    }
   ],
   "source": [
    "print(\"Accuracy:\",metrics.accuracy_score(Y_test, predictions[2]))"
   ]
  },
  {
   "cell_type": "code",
   "execution_count": 138,
   "metadata": {
    "collapsed": true
   },
   "outputs": [
    {
     "name": "stdout",
     "output_type": "stream",
     "text": [
      "tf.Tensor(\n",
      "[[0. 1. 0.]\n",
      " [0. 0. 1.]\n",
      " [1. 0. 0.]\n",
      " ...\n",
      " [1. 0. 0.]\n",
      " [1. 0. 0.]\n",
      " [1. 0. 0.]], shape=(3950, 3), dtype=float32)\n"
     ]
    }
   ],
   "source": [
    "# DT: Accuracy: 0.6820253164556962\n",
    "# ResNet: Accuracy: 0.7612658227848101\n",
    "# RF: Accuracy: 0.7020253164556962\n",
    "\n",
    "# Ensemble: Accuracy: 0.759493670886076, even worse\n"
   ]
  },
  {
   "cell_type": "code",
   "execution_count": 117,
   "metadata": {
    "collapsed": true
   },
   "outputs": [
    {
     "name": "stdout",
     "output_type": "stream",
     "text": [
      "Accuracy: 0.7620253164556962\n"
     ]
    }
   ],
   "source": []
  },
  {
   "cell_type": "code",
   "execution_count": 68,
   "metadata": {
    "collapsed": true
   },
   "outputs": [
    {
     "name": "stdout",
     "output_type": "stream",
     "text": [
      "[[2.05294834e-03 8.08481038e-01 1.89466029e-01]\n",
      " [3.42200790e-03 6.84177026e-01 3.12400967e-01]\n",
      " [9.97771293e-01 1.68558769e-03 5.43156755e-04]\n",
      " ...\n",
      " [9.99521524e-01 4.74258297e-04 4.20277320e-06]\n",
      " [9.99777168e-01 2.14581552e-04 8.21644880e-06]\n",
      " [2.57617056e-01 1.96539626e-01 4.58432958e-02]]\n"
     ]
    }
   ],
   "source": []
  },
  {
   "cell_type": "code",
   "execution_count": null,
   "metadata": {},
   "outputs": [],
   "source": []
  }
 ],
 "metadata": {
  "kernelspec": {
   "display_name": "Python 3",
   "language": "python",
   "name": "python3"
  },
  "language_info": {
   "codemirror_mode": {
    "name": "ipython",
    "version": 3
   },
   "file_extension": ".py",
   "mimetype": "text/x-python",
   "name": "python",
   "nbconvert_exporter": "python",
   "pygments_lexer": "ipython3",
   "version": "3.7.3"
  }
 },
 "nbformat": 4,
 "nbformat_minor": 2
}
